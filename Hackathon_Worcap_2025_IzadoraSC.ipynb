{
  "nbformat": 4,
  "nbformat_minor": 0,
  "metadata": {
    "colab": {
      "provenance": [],
      "gpuType": "T4",
      "authorship_tag": "ABX9TyPXwe92igNV/l8fqt4as+k7",
      "include_colab_link": true
    },
    "kernelspec": {
      "name": "python3",
      "display_name": "Python 3"
    },
    "language_info": {
      "name": "python"
    },
    "accelerator": "GPU"
  },
  "cells": [
    {
      "cell_type": "markdown",
      "metadata": {
        "id": "view-in-github",
        "colab_type": "text"
      },
      "source": [
        "<a href=\"https://colab.research.google.com/github/IzadoraSC/hackathon_workcap_2025/blob/main/Hackathon_Worcap_2025_IzadoraSC.ipynb\" target=\"_parent\"><img src=\"https://colab.research.google.com/assets/colab-badge.svg\" alt=\"Open In Colab\"/></a>"
      ]
    },
    {
      "cell_type": "code",
      "source": [],
      "metadata": {
        "id": "O1DGHg3Xg5Hs"
      },
      "execution_count": null,
      "outputs": []
    },
    {
      "cell_type": "markdown",
      "source": [
        "#HACKATHON - WORCAP - 2025\n",
        "\n",
        "---\n",
        "Equipe: DeepFenix\n",
        "\n",
        "Integrantes: Izadora S. de Carvalho\n"
      ],
      "metadata": {
        "id": "QTnWD2Gqg4P7"
      }
    },
    {
      "cell_type": "markdown",
      "source": [
        "##Objetivo\n",
        "\n",
        "<hr style=\"border:2px inset #ff9900\">\n",
        "\n",
        "Este código tem por objetivo o desenvolvimento de uma solução para detecção de áreas queimadas com base em imagens de satélite pré e pós fogo."
      ],
      "metadata": {
        "id": "AjO8A8QKhMI0"
      }
    },
    {
      "cell_type": "code",
      "execution_count": null,
      "metadata": {
        "id": "Q2Kibynngvw8"
      },
      "outputs": [],
      "source": [
        "#conectando driver\n",
        "from google.colab import drive\n",
        "drive.mount('/content/drive')"
      ]
    },
    {
      "cell_type": "code",
      "source": [
        "!pip install rasterio -q\n",
        "!pip install spyndex -q"
      ],
      "metadata": {
        "id": "jTXyHv8GvcCE"
      },
      "execution_count": null,
      "outputs": []
    },
    {
      "cell_type": "code",
      "source": [],
      "metadata": {
        "id": "hOQzK86zvcv-"
      },
      "execution_count": null,
      "outputs": []
    }
  ]
}